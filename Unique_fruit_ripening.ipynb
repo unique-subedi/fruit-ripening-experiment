{
  "nbformat": 4,
  "nbformat_minor": 0,
  "metadata": {
    "colab": {
      "provenance": [],
      "authorship_tag": "ABX9TyMSZ9zf6aNZ0gou5MSoXgSy",
      "include_colab_link": true
    },
    "kernelspec": {
      "name": "python3",
      "display_name": "Python 3"
    },
    "language_info": {
      "name": "python"
    }
  },
  "cells": [
    {
      "cell_type": "markdown",
      "metadata": {
        "id": "view-in-github",
        "colab_type": "text"
      },
      "source": [
        "<a href=\"https://colab.research.google.com/github/unique-subedi/fruit-ripening-experiment/blob/main/Unique_fruit_ripening.ipynb\" target=\"_parent\"><img src=\"https://colab.research.google.com/assets/colab-badge.svg\" alt=\"Open In Colab\"/></a>"
      ]
    },
    {
      "cell_type": "code",
      "execution_count": 1,
      "metadata": {
        "id": "ZqyGO7O-BNOn"
      },
      "outputs": [],
      "source": [
        "import os\n",
        "import datetime\n",
        "import time\n",
        "import math\n",
        "import numpy as np\n",
        "import scipy\n",
        "from numpy import linalg as LA\n",
        "import pandas as pd\n",
        "import urllib.request\n",
        "import seaborn as sns\n",
        "from matplotlib import pyplot as plt\n",
        "import itertools\n",
        "from scipy.stats import f_oneway\n",
        "\n",
        "import random"
      ]
    },
    {
      "cell_type": "code",
      "source": [
        "urllib.request.urlretrieve(\"https://raw.githubusercontent.com/unique-subedi/fruit-ripening-experiment/main/data.csv\", \"data.csv\")\n",
        "urllib.request.urlretrieve(\"https://raw.githubusercontent.com/unique-subedi/fruit-ripening-experiment/main/banana.csv\", \"banana.csv\")\n",
        "data = pd.read_csv(\"data.csv\")\n",
        "banana = pd.read_csv(\"banana.csv\")\n"
      ],
      "metadata": {
        "id": "ibC2RaOHGvaj"
      },
      "execution_count": 2,
      "outputs": []
    },
    {
      "cell_type": "code",
      "source": [
        "df = pd.concat([data, banana.iloc[:,1:]], axis =1)\n",
        "df.head()"
      ],
      "metadata": {
        "colab": {
          "base_uri": "https://localhost:8080/",
          "height": 317
        },
        "id": "4ew8bWxQZ8jn",
        "outputId": "cc07e4fd-e5d2-49c1-be11-1b3516bd7cbf"
      },
      "execution_count": 4,
      "outputs": [
        {
          "output_type": "execute_result",
          "data": {
            "text/plain": [
              "   number  treatment  softness(wed)  softness(mon)     10-19_r     10-19_g  \\\n",
              "0       1          0            3.0            1.0  142.186631  142.200241   \n",
              "1       2          0            4.0            2.0  137.561795  136.596559   \n",
              "2       3          3            4.0            1.0  141.125241  146.216694   \n",
              "3       4          3            4.0            2.0  125.344966  143.395653   \n",
              "4       5          1            4.0            2.0  116.170423  138.321851   \n",
              "\n",
              "     10-19_b  10-19_magnitude     10-20_r     10-20_g  ...    10-22_b  \\\n",
              "0  16.844182       201.796117  122.780859   96.179760  ...  12.934295   \n",
              "1  14.987055       194.438883  109.779719   88.955601  ...  13.929320   \n",
              "2  36.481745       206.462037  120.239765   98.022351  ...  12.309653   \n",
              "3  14.991416       191.045587  118.246539  100.222260  ...  11.942055   \n",
              "4   9.094297       180.862401   97.527673   85.330382  ...   9.301796   \n",
              "\n",
              "   10-22_magnitude     10-23_r    10-23_g    10-23_b  10-23_magnitude  \\\n",
              "0       146.366787  116.360128  83.802661  13.796252       144.058675   \n",
              "1       152.601480  120.899058  87.045964  15.229069       149.751483   \n",
              "2       148.847134  126.255641  92.621441  14.366583       157.243814   \n",
              "3       150.629455  121.643766  89.222010  13.653187       151.473372   \n",
              "4       141.101667  111.989788  81.149525  10.709202       138.714257   \n",
              "\n",
              "      10-24_r    10-24_g    10-24_b  10-24_magnitude  \n",
              "0  116.353494  81.629849  11.759836       142.617886  \n",
              "1  121.849632  87.021542  14.592494       150.442755  \n",
              "2  120.488485  85.541201  10.755849       148.156878  \n",
              "3  122.224136  87.660435  10.155163       150.752177  \n",
              "4  107.568616  75.318988   8.412993       131.585469  \n",
              "\n",
              "[5 rows x 28 columns]"
            ],
            "text/html": [
              "\n",
              "  <div id=\"df-b639768f-9433-4f03-be46-4f821908dd20\">\n",
              "    <div class=\"colab-df-container\">\n",
              "      <div>\n",
              "<style scoped>\n",
              "    .dataframe tbody tr th:only-of-type {\n",
              "        vertical-align: middle;\n",
              "    }\n",
              "\n",
              "    .dataframe tbody tr th {\n",
              "        vertical-align: top;\n",
              "    }\n",
              "\n",
              "    .dataframe thead th {\n",
              "        text-align: right;\n",
              "    }\n",
              "</style>\n",
              "<table border=\"1\" class=\"dataframe\">\n",
              "  <thead>\n",
              "    <tr style=\"text-align: right;\">\n",
              "      <th></th>\n",
              "      <th>number</th>\n",
              "      <th>treatment</th>\n",
              "      <th>softness(wed)</th>\n",
              "      <th>softness(mon)</th>\n",
              "      <th>10-19_r</th>\n",
              "      <th>10-19_g</th>\n",
              "      <th>10-19_b</th>\n",
              "      <th>10-19_magnitude</th>\n",
              "      <th>10-20_r</th>\n",
              "      <th>10-20_g</th>\n",
              "      <th>...</th>\n",
              "      <th>10-22_b</th>\n",
              "      <th>10-22_magnitude</th>\n",
              "      <th>10-23_r</th>\n",
              "      <th>10-23_g</th>\n",
              "      <th>10-23_b</th>\n",
              "      <th>10-23_magnitude</th>\n",
              "      <th>10-24_r</th>\n",
              "      <th>10-24_g</th>\n",
              "      <th>10-24_b</th>\n",
              "      <th>10-24_magnitude</th>\n",
              "    </tr>\n",
              "  </thead>\n",
              "  <tbody>\n",
              "    <tr>\n",
              "      <th>0</th>\n",
              "      <td>1</td>\n",
              "      <td>0</td>\n",
              "      <td>3.0</td>\n",
              "      <td>1.0</td>\n",
              "      <td>142.186631</td>\n",
              "      <td>142.200241</td>\n",
              "      <td>16.844182</td>\n",
              "      <td>201.796117</td>\n",
              "      <td>122.780859</td>\n",
              "      <td>96.179760</td>\n",
              "      <td>...</td>\n",
              "      <td>12.934295</td>\n",
              "      <td>146.366787</td>\n",
              "      <td>116.360128</td>\n",
              "      <td>83.802661</td>\n",
              "      <td>13.796252</td>\n",
              "      <td>144.058675</td>\n",
              "      <td>116.353494</td>\n",
              "      <td>81.629849</td>\n",
              "      <td>11.759836</td>\n",
              "      <td>142.617886</td>\n",
              "    </tr>\n",
              "    <tr>\n",
              "      <th>1</th>\n",
              "      <td>2</td>\n",
              "      <td>0</td>\n",
              "      <td>4.0</td>\n",
              "      <td>2.0</td>\n",
              "      <td>137.561795</td>\n",
              "      <td>136.596559</td>\n",
              "      <td>14.987055</td>\n",
              "      <td>194.438883</td>\n",
              "      <td>109.779719</td>\n",
              "      <td>88.955601</td>\n",
              "      <td>...</td>\n",
              "      <td>13.929320</td>\n",
              "      <td>152.601480</td>\n",
              "      <td>120.899058</td>\n",
              "      <td>87.045964</td>\n",
              "      <td>15.229069</td>\n",
              "      <td>149.751483</td>\n",
              "      <td>121.849632</td>\n",
              "      <td>87.021542</td>\n",
              "      <td>14.592494</td>\n",
              "      <td>150.442755</td>\n",
              "    </tr>\n",
              "    <tr>\n",
              "      <th>2</th>\n",
              "      <td>3</td>\n",
              "      <td>3</td>\n",
              "      <td>4.0</td>\n",
              "      <td>1.0</td>\n",
              "      <td>141.125241</td>\n",
              "      <td>146.216694</td>\n",
              "      <td>36.481745</td>\n",
              "      <td>206.462037</td>\n",
              "      <td>120.239765</td>\n",
              "      <td>98.022351</td>\n",
              "      <td>...</td>\n",
              "      <td>12.309653</td>\n",
              "      <td>148.847134</td>\n",
              "      <td>126.255641</td>\n",
              "      <td>92.621441</td>\n",
              "      <td>14.366583</td>\n",
              "      <td>157.243814</td>\n",
              "      <td>120.488485</td>\n",
              "      <td>85.541201</td>\n",
              "      <td>10.755849</td>\n",
              "      <td>148.156878</td>\n",
              "    </tr>\n",
              "    <tr>\n",
              "      <th>3</th>\n",
              "      <td>4</td>\n",
              "      <td>3</td>\n",
              "      <td>4.0</td>\n",
              "      <td>2.0</td>\n",
              "      <td>125.344966</td>\n",
              "      <td>143.395653</td>\n",
              "      <td>14.991416</td>\n",
              "      <td>191.045587</td>\n",
              "      <td>118.246539</td>\n",
              "      <td>100.222260</td>\n",
              "      <td>...</td>\n",
              "      <td>11.942055</td>\n",
              "      <td>150.629455</td>\n",
              "      <td>121.643766</td>\n",
              "      <td>89.222010</td>\n",
              "      <td>13.653187</td>\n",
              "      <td>151.473372</td>\n",
              "      <td>122.224136</td>\n",
              "      <td>87.660435</td>\n",
              "      <td>10.155163</td>\n",
              "      <td>150.752177</td>\n",
              "    </tr>\n",
              "    <tr>\n",
              "      <th>4</th>\n",
              "      <td>5</td>\n",
              "      <td>1</td>\n",
              "      <td>4.0</td>\n",
              "      <td>2.0</td>\n",
              "      <td>116.170423</td>\n",
              "      <td>138.321851</td>\n",
              "      <td>9.094297</td>\n",
              "      <td>180.862401</td>\n",
              "      <td>97.527673</td>\n",
              "      <td>85.330382</td>\n",
              "      <td>...</td>\n",
              "      <td>9.301796</td>\n",
              "      <td>141.101667</td>\n",
              "      <td>111.989788</td>\n",
              "      <td>81.149525</td>\n",
              "      <td>10.709202</td>\n",
              "      <td>138.714257</td>\n",
              "      <td>107.568616</td>\n",
              "      <td>75.318988</td>\n",
              "      <td>8.412993</td>\n",
              "      <td>131.585469</td>\n",
              "    </tr>\n",
              "  </tbody>\n",
              "</table>\n",
              "<p>5 rows × 28 columns</p>\n",
              "</div>\n",
              "      <button class=\"colab-df-convert\" onclick=\"convertToInteractive('df-b639768f-9433-4f03-be46-4f821908dd20')\"\n",
              "              title=\"Convert this dataframe to an interactive table.\"\n",
              "              style=\"display:none;\">\n",
              "        \n",
              "  <svg xmlns=\"http://www.w3.org/2000/svg\" height=\"24px\"viewBox=\"0 0 24 24\"\n",
              "       width=\"24px\">\n",
              "    <path d=\"M0 0h24v24H0V0z\" fill=\"none\"/>\n",
              "    <path d=\"M18.56 5.44l.94 2.06.94-2.06 2.06-.94-2.06-.94-.94-2.06-.94 2.06-2.06.94zm-11 1L8.5 8.5l.94-2.06 2.06-.94-2.06-.94L8.5 2.5l-.94 2.06-2.06.94zm10 10l.94 2.06.94-2.06 2.06-.94-2.06-.94-.94-2.06-.94 2.06-2.06.94z\"/><path d=\"M17.41 7.96l-1.37-1.37c-.4-.4-.92-.59-1.43-.59-.52 0-1.04.2-1.43.59L10.3 9.45l-7.72 7.72c-.78.78-.78 2.05 0 2.83L4 21.41c.39.39.9.59 1.41.59.51 0 1.02-.2 1.41-.59l7.78-7.78 2.81-2.81c.8-.78.8-2.07 0-2.86zM5.41 20L4 18.59l7.72-7.72 1.47 1.35L5.41 20z\"/>\n",
              "  </svg>\n",
              "      </button>\n",
              "      \n",
              "  <style>\n",
              "    .colab-df-container {\n",
              "      display:flex;\n",
              "      flex-wrap:wrap;\n",
              "      gap: 12px;\n",
              "    }\n",
              "\n",
              "    .colab-df-convert {\n",
              "      background-color: #E8F0FE;\n",
              "      border: none;\n",
              "      border-radius: 50%;\n",
              "      cursor: pointer;\n",
              "      display: none;\n",
              "      fill: #1967D2;\n",
              "      height: 32px;\n",
              "      padding: 0 0 0 0;\n",
              "      width: 32px;\n",
              "    }\n",
              "\n",
              "    .colab-df-convert:hover {\n",
              "      background-color: #E2EBFA;\n",
              "      box-shadow: 0px 1px 2px rgba(60, 64, 67, 0.3), 0px 1px 3px 1px rgba(60, 64, 67, 0.15);\n",
              "      fill: #174EA6;\n",
              "    }\n",
              "\n",
              "    [theme=dark] .colab-df-convert {\n",
              "      background-color: #3B4455;\n",
              "      fill: #D2E3FC;\n",
              "    }\n",
              "\n",
              "    [theme=dark] .colab-df-convert:hover {\n",
              "      background-color: #434B5C;\n",
              "      box-shadow: 0px 1px 3px 1px rgba(0, 0, 0, 0.15);\n",
              "      filter: drop-shadow(0px 1px 2px rgba(0, 0, 0, 0.3));\n",
              "      fill: #FFFFFF;\n",
              "    }\n",
              "  </style>\n",
              "\n",
              "      <script>\n",
              "        const buttonEl =\n",
              "          document.querySelector('#df-b639768f-9433-4f03-be46-4f821908dd20 button.colab-df-convert');\n",
              "        buttonEl.style.display =\n",
              "          google.colab.kernel.accessAllowed ? 'block' : 'none';\n",
              "\n",
              "        async function convertToInteractive(key) {\n",
              "          const element = document.querySelector('#df-b639768f-9433-4f03-be46-4f821908dd20');\n",
              "          const dataTable =\n",
              "            await google.colab.kernel.invokeFunction('convertToInteractive',\n",
              "                                                     [key], {});\n",
              "          if (!dataTable) return;\n",
              "\n",
              "          const docLinkHtml = 'Like what you see? Visit the ' +\n",
              "            '<a target=\"_blank\" href=https://colab.research.google.com/notebooks/data_table.ipynb>data table notebook</a>'\n",
              "            + ' to learn more about interactive tables.';\n",
              "          element.innerHTML = '';\n",
              "          dataTable['output_type'] = 'display_data';\n",
              "          await google.colab.output.renderOutput(dataTable, element);\n",
              "          const docLink = document.createElement('div');\n",
              "          docLink.innerHTML = docLinkHtml;\n",
              "          element.appendChild(docLink);\n",
              "        }\n",
              "      </script>\n",
              "    </div>\n",
              "  </div>\n",
              "  "
            ]
          },
          "metadata": {},
          "execution_count": 4
        }
      ]
    },
    {
      "cell_type": "code",
      "source": [
        "df_fl = df[['number', 'treatment', '10-19_g', '10-19_magnitude', '10-24_g', '10-24_magnitude']]\n",
        "df_fl.head()\n",
        "df_fl.loc[:, \"green_diff\"] =   df_fl[\"10-19_g\"] - df_fl[\"10-24_g\"]\n",
        "df_fl.loc[:, \"magnitude_diff\"] =  df_fl[\"10-19_magnitude\"] - df_fl[\"10-24_magnitude\"]\n",
        "df_fl.head()"
      ],
      "metadata": {
        "colab": {
          "base_uri": "https://localhost:8080/",
          "height": 313
        },
        "id": "freetngBasA4",
        "outputId": "1d5e58d2-d995-4fa7-8eb0-30d84385247e"
      },
      "execution_count": 6,
      "outputs": [
        {
          "output_type": "stream",
          "name": "stderr",
          "text": [
            "/usr/local/lib/python3.7/dist-packages/pandas/core/indexing.py:1667: SettingWithCopyWarning: \n",
            "A value is trying to be set on a copy of a slice from a DataFrame.\n",
            "Try using .loc[row_indexer,col_indexer] = value instead\n",
            "\n",
            "See the caveats in the documentation: https://pandas.pydata.org/pandas-docs/stable/user_guide/indexing.html#returning-a-view-versus-a-copy\n",
            "  self.obj[key] = value\n"
          ]
        },
        {
          "output_type": "execute_result",
          "data": {
            "text/plain": [
              "   number  treatment     10-19_g  10-19_magnitude    10-24_g  10-24_magnitude  \\\n",
              "0       1          0  142.200241       201.796117  81.629849       142.617886   \n",
              "1       2          0  136.596559       194.438883  87.021542       150.442755   \n",
              "2       3          3  146.216694       206.462037  85.541201       148.156878   \n",
              "3       4          3  143.395653       191.045587  87.660435       150.752177   \n",
              "4       5          1  138.321851       180.862401  75.318988       131.585469   \n",
              "\n",
              "   green_diff  magnitude_diff  \n",
              "0   60.570392       59.178231  \n",
              "1   49.575017       43.996128  \n",
              "2   60.675493       58.305159  \n",
              "3   55.735218       40.293410  \n",
              "4   63.002863       49.276932  "
            ],
            "text/html": [
              "\n",
              "  <div id=\"df-7a1039d6-92c1-4796-bc4a-6096bb1d9636\">\n",
              "    <div class=\"colab-df-container\">\n",
              "      <div>\n",
              "<style scoped>\n",
              "    .dataframe tbody tr th:only-of-type {\n",
              "        vertical-align: middle;\n",
              "    }\n",
              "\n",
              "    .dataframe tbody tr th {\n",
              "        vertical-align: top;\n",
              "    }\n",
              "\n",
              "    .dataframe thead th {\n",
              "        text-align: right;\n",
              "    }\n",
              "</style>\n",
              "<table border=\"1\" class=\"dataframe\">\n",
              "  <thead>\n",
              "    <tr style=\"text-align: right;\">\n",
              "      <th></th>\n",
              "      <th>number</th>\n",
              "      <th>treatment</th>\n",
              "      <th>10-19_g</th>\n",
              "      <th>10-19_magnitude</th>\n",
              "      <th>10-24_g</th>\n",
              "      <th>10-24_magnitude</th>\n",
              "      <th>green_diff</th>\n",
              "      <th>magnitude_diff</th>\n",
              "    </tr>\n",
              "  </thead>\n",
              "  <tbody>\n",
              "    <tr>\n",
              "      <th>0</th>\n",
              "      <td>1</td>\n",
              "      <td>0</td>\n",
              "      <td>142.200241</td>\n",
              "      <td>201.796117</td>\n",
              "      <td>81.629849</td>\n",
              "      <td>142.617886</td>\n",
              "      <td>60.570392</td>\n",
              "      <td>59.178231</td>\n",
              "    </tr>\n",
              "    <tr>\n",
              "      <th>1</th>\n",
              "      <td>2</td>\n",
              "      <td>0</td>\n",
              "      <td>136.596559</td>\n",
              "      <td>194.438883</td>\n",
              "      <td>87.021542</td>\n",
              "      <td>150.442755</td>\n",
              "      <td>49.575017</td>\n",
              "      <td>43.996128</td>\n",
              "    </tr>\n",
              "    <tr>\n",
              "      <th>2</th>\n",
              "      <td>3</td>\n",
              "      <td>3</td>\n",
              "      <td>146.216694</td>\n",
              "      <td>206.462037</td>\n",
              "      <td>85.541201</td>\n",
              "      <td>148.156878</td>\n",
              "      <td>60.675493</td>\n",
              "      <td>58.305159</td>\n",
              "    </tr>\n",
              "    <tr>\n",
              "      <th>3</th>\n",
              "      <td>4</td>\n",
              "      <td>3</td>\n",
              "      <td>143.395653</td>\n",
              "      <td>191.045587</td>\n",
              "      <td>87.660435</td>\n",
              "      <td>150.752177</td>\n",
              "      <td>55.735218</td>\n",
              "      <td>40.293410</td>\n",
              "    </tr>\n",
              "    <tr>\n",
              "      <th>4</th>\n",
              "      <td>5</td>\n",
              "      <td>1</td>\n",
              "      <td>138.321851</td>\n",
              "      <td>180.862401</td>\n",
              "      <td>75.318988</td>\n",
              "      <td>131.585469</td>\n",
              "      <td>63.002863</td>\n",
              "      <td>49.276932</td>\n",
              "    </tr>\n",
              "  </tbody>\n",
              "</table>\n",
              "</div>\n",
              "      <button class=\"colab-df-convert\" onclick=\"convertToInteractive('df-7a1039d6-92c1-4796-bc4a-6096bb1d9636')\"\n",
              "              title=\"Convert this dataframe to an interactive table.\"\n",
              "              style=\"display:none;\">\n",
              "        \n",
              "  <svg xmlns=\"http://www.w3.org/2000/svg\" height=\"24px\"viewBox=\"0 0 24 24\"\n",
              "       width=\"24px\">\n",
              "    <path d=\"M0 0h24v24H0V0z\" fill=\"none\"/>\n",
              "    <path d=\"M18.56 5.44l.94 2.06.94-2.06 2.06-.94-2.06-.94-.94-2.06-.94 2.06-2.06.94zm-11 1L8.5 8.5l.94-2.06 2.06-.94-2.06-.94L8.5 2.5l-.94 2.06-2.06.94zm10 10l.94 2.06.94-2.06 2.06-.94-2.06-.94-.94-2.06-.94 2.06-2.06.94z\"/><path d=\"M17.41 7.96l-1.37-1.37c-.4-.4-.92-.59-1.43-.59-.52 0-1.04.2-1.43.59L10.3 9.45l-7.72 7.72c-.78.78-.78 2.05 0 2.83L4 21.41c.39.39.9.59 1.41.59.51 0 1.02-.2 1.41-.59l7.78-7.78 2.81-2.81c.8-.78.8-2.07 0-2.86zM5.41 20L4 18.59l7.72-7.72 1.47 1.35L5.41 20z\"/>\n",
              "  </svg>\n",
              "      </button>\n",
              "      \n",
              "  <style>\n",
              "    .colab-df-container {\n",
              "      display:flex;\n",
              "      flex-wrap:wrap;\n",
              "      gap: 12px;\n",
              "    }\n",
              "\n",
              "    .colab-df-convert {\n",
              "      background-color: #E8F0FE;\n",
              "      border: none;\n",
              "      border-radius: 50%;\n",
              "      cursor: pointer;\n",
              "      display: none;\n",
              "      fill: #1967D2;\n",
              "      height: 32px;\n",
              "      padding: 0 0 0 0;\n",
              "      width: 32px;\n",
              "    }\n",
              "\n",
              "    .colab-df-convert:hover {\n",
              "      background-color: #E2EBFA;\n",
              "      box-shadow: 0px 1px 2px rgba(60, 64, 67, 0.3), 0px 1px 3px 1px rgba(60, 64, 67, 0.15);\n",
              "      fill: #174EA6;\n",
              "    }\n",
              "\n",
              "    [theme=dark] .colab-df-convert {\n",
              "      background-color: #3B4455;\n",
              "      fill: #D2E3FC;\n",
              "    }\n",
              "\n",
              "    [theme=dark] .colab-df-convert:hover {\n",
              "      background-color: #434B5C;\n",
              "      box-shadow: 0px 1px 3px 1px rgba(0, 0, 0, 0.15);\n",
              "      filter: drop-shadow(0px 1px 2px rgba(0, 0, 0, 0.3));\n",
              "      fill: #FFFFFF;\n",
              "    }\n",
              "  </style>\n",
              "\n",
              "      <script>\n",
              "        const buttonEl =\n",
              "          document.querySelector('#df-7a1039d6-92c1-4796-bc4a-6096bb1d9636 button.colab-df-convert');\n",
              "        buttonEl.style.display =\n",
              "          google.colab.kernel.accessAllowed ? 'block' : 'none';\n",
              "\n",
              "        async function convertToInteractive(key) {\n",
              "          const element = document.querySelector('#df-7a1039d6-92c1-4796-bc4a-6096bb1d9636');\n",
              "          const dataTable =\n",
              "            await google.colab.kernel.invokeFunction('convertToInteractive',\n",
              "                                                     [key], {});\n",
              "          if (!dataTable) return;\n",
              "\n",
              "          const docLinkHtml = 'Like what you see? Visit the ' +\n",
              "            '<a target=\"_blank\" href=https://colab.research.google.com/notebooks/data_table.ipynb>data table notebook</a>'\n",
              "            + ' to learn more about interactive tables.';\n",
              "          element.innerHTML = '';\n",
              "          dataTable['output_type'] = 'display_data';\n",
              "          await google.colab.output.renderOutput(dataTable, element);\n",
              "          const docLink = document.createElement('div');\n",
              "          docLink.innerHTML = docLinkHtml;\n",
              "          element.appendChild(docLink);\n",
              "        }\n",
              "      </script>\n",
              "    </div>\n",
              "  </div>\n",
              "  "
            ]
          },
          "metadata": {},
          "execution_count": 6
        }
      ]
    },
    {
      "cell_type": "code",
      "source": [
        "def permutation_test(data_set, trt1, trt2,  variable):\n",
        "   data_slice = data_set[data_set.treatment.isin([trt1, trt2])]\n",
        "   diff_given = data_slice[data_slice.treatment == trt1][variable].mean() - data_slice[data_slice.treatment == trt2][variable].mean()\n",
        "   differences = []\n",
        "   treatments = data_slice[\"treatment\"]\n",
        "   for perms in itertools.permutations(treatments):\n",
        "     data_slice.loc[:, \"treatment\"] = perms\n",
        "     differences.append(data_slice[data_slice.treatment == trt1][variable].mean() - data_slice[data_slice.treatment == trt2][variable].mean())\n",
        "   return differences, np.mean(differences >= diff_given)\n",
        "    \n",
        "    "
      ],
      "metadata": {
        "id": "CtR9x3aDeUKm"
      },
      "execution_count": 7,
      "outputs": []
    },
    {
      "cell_type": "code",
      "source": [
        "differences, p_value = permutation_test(df_fl, 2, 3, \"green_diff\")\n",
        "print(p_value)\n",
        "sns.histplot(differences, bins = 30, kde= True)"
      ],
      "metadata": {
        "colab": {
          "base_uri": "https://localhost:8080/",
          "height": 408
        },
        "id": "CTpaNOKHhVsE",
        "outputId": "de940034-d42c-416c-c6ed-16d4e6ac6ac2"
      },
      "execution_count": 8,
      "outputs": [
        {
          "output_type": "stream",
          "name": "stderr",
          "text": [
            "/usr/local/lib/python3.7/dist-packages/pandas/core/indexing.py:1773: SettingWithCopyWarning: \n",
            "A value is trying to be set on a copy of a slice from a DataFrame.\n",
            "Try using .loc[row_indexer,col_indexer] = value instead\n",
            "\n",
            "See the caveats in the documentation: https://pandas.pydata.org/pandas-docs/stable/user_guide/indexing.html#returning-a-view-versus-a-copy\n",
            "  self._setitem_single_column(ilocs[0], value, pi)\n"
          ]
        },
        {
          "output_type": "stream",
          "name": "stdout",
          "text": [
            "0.9\n"
          ]
        },
        {
          "output_type": "execute_result",
          "data": {
            "text/plain": [
              "<matplotlib.axes._subplots.AxesSubplot at 0x7f61ce42ebd0>"
            ]
          },
          "metadata": {},
          "execution_count": 8
        },
        {
          "output_type": "display_data",
          "data": {
            "text/plain": [
              "<Figure size 432x288 with 1 Axes>"
            ],
            "image/png": "[encoded data removed]"
          },
          "metadata": {
            "needs_background": "light"
          }
        }
      ]
    },
    {
      "cell_type": "code",
      "source": [
        "var = \"green_diff\"\n",
        "trt_zero = df_fl[df.treatment == 0][var]\n",
        "trt_one = df_fl[df.treatment == 1][var]\n",
        "trt_two = df_fl[df.treatment == 2][var]\n",
        "trt_three = df_fl[df.treatment == 3][var]\n",
        "F, p = f_oneway(trt_zero, trt_one, trt_two, trt_three)\n",
        "print(\"statistic: \", F)\n",
        "print(\"p-value: \", p)"
      ],
      "metadata": {
        "id": "yDz_AsS05792",
        "outputId": "2df65ae9-94c4-4b2b-b5d7-8819040af020",
        "colab": {
          "base_uri": "https://localhost:8080/"
        }
      },
      "execution_count": null,
      "outputs": [
        {
          "output_type": "stream",
          "name": "stdout",
          "text": [
            "statistic:  4.841743371100792\n",
            "p-value:  0.033102305266664564\n"
          ]
        }
      ]
    },
    {
      "cell_type": "code",
      "source": [
        "def F_statistic(y):\n",
        "  num = 3*y.groupby(level=0).mean().var()\n",
        "  denom = y.groupby(level=0).var().sum()/4\n",
        "  return num/denom\n",
        "\n"
      ],
      "metadata": {
        "id": "KLvZKBtw40HN"
      },
      "execution_count": null,
      "outputs": []
    },
    {
      "cell_type": "code",
      "source": [
        "def F_test(y):\n",
        "    F = F_statistic(y)\n",
        "    #permutations = random.choices(list(itertools.permutations(y.index)), k = 1000)\n",
        "    hist = []\n",
        "    initial = y.index\n",
        "    i = 0\n",
        "    for i in range(10000):\n",
        "      y.index = np.random.permutation(initial)\n",
        "      hist.append(F_statistic(y))\n",
        "      F_temp = F_statistic(y)\n",
        "      i+=1\n",
        "    return np.mean(hist >= F), hist"
      ],
      "metadata": {
        "id": "_PtwVdRu2HuG"
      },
      "execution_count": null,
      "outputs": []
    },
    {
      "cell_type": "code",
      "source": [],
      "metadata": {
        "id": "s-YutxlP95Mo"
      },
      "execution_count": null,
      "outputs": []
    },
    {
      "cell_type": "code",
      "source": [
        "df_fl.index = df_fl[\"treatment\"]\n",
        "p_value, hist = F_test(df_fl[\"green_diff\"])"
      ],
      "metadata": {
        "id": "71wfa52j2NNX"
      },
      "execution_count": null,
      "outputs": []
    },
    {
      "cell_type": "code",
      "source": [
        "sns.histplot(hist)\n",
        "plt.title(\"Distribution of F-statistic for change in green\")\n",
        "plt.savefig(\"green.png\")"
      ],
      "metadata": {
        "id": "RQqkdGNECWV-",
        "outputId": "190d2f81-b729-4ca5-d8c4-dc30f5c016d5",
        "colab": {
          "base_uri": "https://localhost:8080/",
          "height": 281
        }
      },
      "execution_count": null,
      "outputs": [
        {
          "output_type": "display_data",
          "data": {
            "text/plain": [
              "<Figure size 432x288 with 1 Axes>"
            ],
            "image/png": "[encoded data removed]"
          },
          "metadata": {
            "needs_background": "light"
          }
        }
      ]
    },
    {
      "cell_type": "code",
      "source": [
        "p_value"
      ],
      "metadata": {
        "id": "ErGm5DdwF_Py",
        "outputId": "2e1dbb28-6fc1-4b19-8780-aac9b04bae55",
        "colab": {
          "base_uri": "https://localhost:8080/"
        }
      },
      "execution_count": null,
      "outputs": [
        {
          "output_type": "execute_result",
          "data": {
            "text/plain": [
              "0.0453"
            ]
          },
          "metadata": {},
          "execution_count": 20
        }
      ]
    },
    {
      "cell_type": "code",
      "source": [
        "var = \"magnitude_diff\"\n",
        "control = df_fl[df_fl.iloc[:,1] == 0]\n",
        "group1 = df_fl[df_fl.iloc[:,1] == 1]\n",
        "group2 = df_fl[df_fl.iloc[:,1] == 2]\n",
        "group3 = df_fl[df_fl.iloc[:,1] == 3]\n",
        "p_value, test_statistic = F_test(control, group1, group2, group3, var)"
      ],
      "metadata": {
        "id": "C0_4vRwJ96Ar"
      },
      "execution_count": null,
      "outputs": []
    },
    {
      "cell_type": "markdown",
      "source": [
        "# Analysis on Color of Peel"
      ],
      "metadata": {
        "id": "nX3p9HZZSg4A"
      }
    },
    {
      "cell_type": "markdown",
      "source": [
        "On top of softness, we also studied ripeness with two variables based on color of peeel. "
      ],
      "metadata": {
        "id": "0F92RfLeSlyj"
      }
    },
    {
      "cell_type": "markdown",
      "source": [
        "## Change in color between the first and the last day of the experiment"
      ],
      "metadata": {
        "id": "1wCrFH8CTPHI"
      }
    },
    {
      "cell_type": "markdown",
      "source": [
        "Let us define $M_{ij}$ to be the magnitude of pixel for $i^{th}$ banana on $j^{th}$ day of the experiment. Since we ran experiment for 5 days, we have $j \\in \\{1, 2, 3,4, 5\\}$. In this section, we study the variable \n",
        "$$\\Delta M_i :=  M_{i1} - M_{i5},$$\n",
        "that is, the change in pixel magnitude between the first and the last day of the experiment for each banana. In the similar manner, let us denote $G_{ij}$ to be average green chanel value for $i^{th}$ banana on $j^{th}$ day of the experiment. Then, we can define\n",
        "$$\\Delta G_i := G_{i1} - G_{i5}.$$\n",
        "\n"
      ],
      "metadata": {
        "id": "Yg6NVLoqTcD_"
      }
    },
    {
      "cell_type": "markdown",
      "source": [
        "First, we begin by studying if there exist any pair of groups, either treatment-control pair or treatment-treatment pair, for which $\\Delta M_i$ or $\\Delta G_i$ is statistically different across these two groups in the pair. For this, we use permutation test using F-statistic as the test statistic. \n",
        "Since we have 12 observations across four groups, computing p-value requires computing test statistic for $12!$ permutations, which is infeasible. So, we compute our p-value using $10000$ randomly generated permutations. "
      ],
      "metadata": {
        "id": "cIs9loyfViX4"
      }
    },
    {
      "cell_type": "code",
      "source": [
        "def F_statistic(y):\n",
        "  num = 3*y.groupby(level=0).mean().var()\n",
        "  denom = y.groupby(level=0).var().sum()/4\n",
        "  return num/denom\n",
        "\n",
        "def F_test(y):\n",
        "    F = F_statistic(y)\n",
        "    #permutations = random.choices(list(itertools.permutations(y.index)), k = 1000)\n",
        "    hist = []\n",
        "    initial = y.index\n",
        "    i = 0\n",
        "    for i in range(10000):\n",
        "      y.index = np.random.permutation(initial)\n",
        "      hist.append(F_statistic(y))\n",
        "      F_temp = F_statistic(y)\n",
        "      i+=1\n",
        "    return np.mean(hist >= F), hist"
      ],
      "metadata": {
        "id": "h2olYWacYwDO"
      },
      "execution_count": 9,
      "outputs": []
    },
    {
      "cell_type": "code",
      "source": [
        "df_fl.index = df_fl[\"treatment\"]\n",
        "p_value, hist = F_test(df_fl[\"magnitude_diff\"])\n",
        "sns.histplot(hist)\n",
        "plt.title(\"Distribution of F-statistic for change in magnitude\")\n",
        "plt.savefig(\"magnitude.png\")"
      ],
      "metadata": {
        "id": "Y73wOd3aY2Ck",
        "outputId": "1be0291c-eba5-460b-f02b-fd732ca0d647",
        "colab": {
          "base_uri": "https://localhost:8080/",
          "height": 281
        }
      },
      "execution_count": 10,
      "outputs": [
        {
          "output_type": "display_data",
          "data": {
            "text/plain": [
              "<Figure size 432x288 with 1 Axes>"
            ],
            "image/png": "[encoded data removed]"
          },
          "metadata": {
            "needs_background": "light"
          }
        }
      ]
    }
  ]
}