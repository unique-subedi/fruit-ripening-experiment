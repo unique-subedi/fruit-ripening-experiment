{
  "nbformat": 4,
  "nbformat_minor": 0,
  "metadata": {
    "colab": {
      "provenance": [],
      "authorship_tag": "ABX9TyN7VknrxOAHaUUSuAgmIgHZ",
      "include_colab_link": true
    },
    "kernelspec": {
      "name": "python3",
      "display_name": "Python 3"
    },
    "language_info": {
      "name": "python"
    }
  },
  "cells": [
    {
      "cell_type": "markdown",
      "metadata": {
        "id": "view-in-github",
        "colab_type": "text"
      },
      "source": [
        "<a href=\"https://colab.research.google.com/github/unique-subedi/fruit-ripening-experiment/blob/main/Unique_fruit_ripening.ipynb\" target=\"_parent\"><img src=\"https://colab.research.google.com/assets/colab-badge.svg\" alt=\"Open In Colab\"/></a>"
      ]
    },
    {
      "cell_type": "code",
      "execution_count": null,
      "metadata": {
        "id": "ZqyGO7O-BNOn"
      },
      "outputs": [],
      "source": [
        "import os\n",
        "import datetime\n",
        "import time\n",
        "import math\n",
        "import numpy as np\n",
        "import scipy\n",
        "from numpy import linalg as LA\n",
        "import pandas as pd\n",
        "import urllib.request\n",
        "import seaborn as sns\n",
        "from matplotlib import pyplot as plt\n",
        "import itertools\n",
        "from scipy.stats import f_oneway\n",
        "import random"
      ]
    },
    {
      "cell_type": "code",
      "source": [
        "urllib.request.urlretrieve(\"https://raw.githubusercontent.com/unique-subedi/fruit-ripening-experiment/main/data.csv\", \"data.csv\")\n",
        "urllib.request.urlretrieve(\"https://raw.githubusercontent.com/unique-subedi/fruit-ripening-experiment/main/banana.csv\", \"banana.csv\")\n",
        "data = pd.read_csv(\"data.csv\")\n",
        "banana = pd.read_csv(\"banana.csv\")\n"
      ],
      "metadata": {
        "id": "ibC2RaOHGvaj"
      },
      "execution_count": null,
      "outputs": []
    },
    {
      "cell_type": "markdown",
      "source": [
        "## Change in color between the first and the last day of the experiment"
      ],
      "metadata": {
        "id": "1wCrFH8CTPHI"
      }
    },
    {
      "cell_type": "markdown",
      "source": [
        "Let us define $M_{ij}$ to be the magnitude of pixel for $i^{th}$ banana on $j^{th}$ day of the experiment. Since we ran the experiment for 5 days, we have $j \\in \\{1, 2, 3,4, 5\\}$. In this section, we study the variable \n",
        "$$\\Delta M_i :=  M_{i1} - M_{i5},$$\n",
        "that is the change in pixel magnitude between the first and the last day of the experiment for each banana. Similarly, let us denote $G_{ij}$ to be the average green channel value for $i^{th}$ banana on $j^{th}$ day of the experiment. Then, we can define\n",
        "$$\\Delta G_i := G_{i1} - G_{i5}.$$\n",
        "\n"
      ],
      "metadata": {
        "id": "Yg6NVLoqTcD_"
      }
    },
    {
      "cell_type": "code",
      "source": [
        "df = pd.concat([data, banana.iloc[:,1:]], axis =1)\n",
        "df_fl = df.loc[:, ['number', 'treatment', '10-19_g', '10-19_magnitude', '10-24_g', '10-24_magnitude']]\n",
        "df_fl.loc[:, \"green_diff\"] =   df_fl[\"10-19_g\"] - df_fl[\"10-24_g\"]\n",
        "df_fl.loc[:, \"magnitude_diff\"] =  df_fl[\"10-19_magnitude\"] - df_fl[\"10-24_magnitude\"]\n",
        "df_fl.head()"
      ],
      "metadata": {
        "id": "bYLD_1hq8qze",
        "outputId": "c1c1a8ab-40a1-47a1-d032-ce6dd0f79d11",
        "colab": {
          "base_uri": "https://localhost:8080/",
          "height": 206
        }
      },
      "execution_count": null,
      "outputs": [
        {
          "output_type": "execute_result",
          "data": {
            "text/plain": [
              "   number  treatment     10-19_g  10-19_magnitude    10-24_g  10-24_magnitude  \\\n",
              "0       1          0  142.200241       201.796117  81.629849       142.617886   \n",
              "1       2          0  136.596559       194.438883  87.021542       150.442755   \n",
              "2       3          3  146.216694       206.462037  85.541201       148.156878   \n",
              "3       4          3  143.395653       191.045587  87.660435       150.752177   \n",
              "4       5          1  138.321851       180.862401  75.318988       131.585469   \n",
              "\n",
              "   green_diff  magnitude_diff  \n",
              "0   60.570392       59.178231  \n",
              "1   49.575017       43.996128  \n",
              "2   60.675493       58.305159  \n",
              "3   55.735218       40.293410  \n",
              "4   63.002863       49.276932  "
            ],
            "text/html": [
              "\n",
              "  <div id=\"df-41adc7f5-851b-4a97-b048-03e6ecd763d0\">\n",
              "    <div class=\"colab-df-container\">\n",
              "      <div>\n",
              "<style scoped>\n",
              "    .dataframe tbody tr th:only-of-type {\n",
              "        vertical-align: middle;\n",
              "    }\n",
              "\n",
              "    .dataframe tbody tr th {\n",
              "        vertical-align: top;\n",
              "    }\n",
              "\n",
              "    .dataframe thead th {\n",
              "        text-align: right;\n",
              "    }\n",
              "</style>\n",
              "<table border=\"1\" class=\"dataframe\">\n",
              "  <thead>\n",
              "    <tr style=\"text-align: right;\">\n",
              "      <th></th>\n",
              "      <th>number</th>\n",
              "      <th>treatment</th>\n",
              "      <th>10-19_g</th>\n",
              "      <th>10-19_magnitude</th>\n",
              "      <th>10-24_g</th>\n",
              "      <th>10-24_magnitude</th>\n",
              "      <th>green_diff</th>\n",
              "      <th>magnitude_diff</th>\n",
              "    </tr>\n",
              "  </thead>\n",
              "  <tbody>\n",
              "    <tr>\n",
              "      <th>0</th>\n",
              "      <td>1</td>\n",
              "      <td>0</td>\n",
              "      <td>142.200241</td>\n",
              "      <td>201.796117</td>\n",
              "      <td>81.629849</td>\n",
              "      <td>142.617886</td>\n",
              "      <td>60.570392</td>\n",
              "      <td>59.178231</td>\n",
              "    </tr>\n",
              "    <tr>\n",
              "      <th>1</th>\n",
              "      <td>2</td>\n",
              "      <td>0</td>\n",
              "      <td>136.596559</td>\n",
              "      <td>194.438883</td>\n",
              "      <td>87.021542</td>\n",
              "      <td>150.442755</td>\n",
              "      <td>49.575017</td>\n",
              "      <td>43.996128</td>\n",
              "    </tr>\n",
              "    <tr>\n",
              "      <th>2</th>\n",
              "      <td>3</td>\n",
              "      <td>3</td>\n",
              "      <td>146.216694</td>\n",
              "      <td>206.462037</td>\n",
              "      <td>85.541201</td>\n",
              "      <td>148.156878</td>\n",
              "      <td>60.675493</td>\n",
              "      <td>58.305159</td>\n",
              "    </tr>\n",
              "    <tr>\n",
              "      <th>3</th>\n",
              "      <td>4</td>\n",
              "      <td>3</td>\n",
              "      <td>143.395653</td>\n",
              "      <td>191.045587</td>\n",
              "      <td>87.660435</td>\n",
              "      <td>150.752177</td>\n",
              "      <td>55.735218</td>\n",
              "      <td>40.293410</td>\n",
              "    </tr>\n",
              "    <tr>\n",
              "      <th>4</th>\n",
              "      <td>5</td>\n",
              "      <td>1</td>\n",
              "      <td>138.321851</td>\n",
              "      <td>180.862401</td>\n",
              "      <td>75.318988</td>\n",
              "      <td>131.585469</td>\n",
              "      <td>63.002863</td>\n",
              "      <td>49.276932</td>\n",
              "    </tr>\n",
              "  </tbody>\n",
              "</table>\n",
              "</div>\n",
              "      <button class=\"colab-df-convert\" onclick=\"convertToInteractive('df-41adc7f5-851b-4a97-b048-03e6ecd763d0')\"\n",
              "              title=\"Convert this dataframe to an interactive table.\"\n",
              "              style=\"display:none;\">\n",
              "        \n",
              "  <svg xmlns=\"http://www.w3.org/2000/svg\" height=\"24px\"viewBox=\"0 0 24 24\"\n",
              "       width=\"24px\">\n",
              "    <path d=\"M0 0h24v24H0V0z\" fill=\"none\"/>\n",
              "    <path d=\"M18.56 5.44l.94 2.06.94-2.06 2.06-.94-2.06-.94-.94-2.06-.94 2.06-2.06.94zm-11 1L8.5 8.5l.94-2.06 2.06-.94-2.06-.94L8.5 2.5l-.94 2.06-2.06.94zm10 10l.94 2.06.94-2.06 2.06-.94-2.06-.94-.94-2.06-.94 2.06-2.06.94z\"/><path d=\"M17.41 7.96l-1.37-1.37c-.4-.4-.92-.59-1.43-.59-.52 0-1.04.2-1.43.59L10.3 9.45l-7.72 7.72c-.78.78-.78 2.05 0 2.83L4 21.41c.39.39.9.59 1.41.59.51 0 1.02-.2 1.41-.59l7.78-7.78 2.81-2.81c.8-.78.8-2.07 0-2.86zM5.41 20L4 18.59l7.72-7.72 1.47 1.35L5.41 20z\"/>\n",
              "  </svg>\n",
              "      </button>\n",
              "      \n",
              "  <style>\n",
              "    .colab-df-container {\n",
              "      display:flex;\n",
              "      flex-wrap:wrap;\n",
              "      gap: 12px;\n",
              "    }\n",
              "\n",
              "    .colab-df-convert {\n",
              "      background-color: #E8F0FE;\n",
              "      border: none;\n",
              "      border-radius: 50%;\n",
              "      cursor: pointer;\n",
              "      display: none;\n",
              "      fill: #1967D2;\n",
              "      height: 32px;\n",
              "      padding: 0 0 0 0;\n",
              "      width: 32px;\n",
              "    }\n",
              "\n",
              "    .colab-df-convert:hover {\n",
              "      background-color: #E2EBFA;\n",
              "      box-shadow: 0px 1px 2px rgba(60, 64, 67, 0.3), 0px 1px 3px 1px rgba(60, 64, 67, 0.15);\n",
              "      fill: #174EA6;\n",
              "    }\n",
              "\n",
              "    [theme=dark] .colab-df-convert {\n",
              "      background-color: #3B4455;\n",
              "      fill: #D2E3FC;\n",
              "    }\n",
              "\n",
              "    [theme=dark] .colab-df-convert:hover {\n",
              "      background-color: #434B5C;\n",
              "      box-shadow: 0px 1px 3px 1px rgba(0, 0, 0, 0.15);\n",
              "      filter: drop-shadow(0px 1px 2px rgba(0, 0, 0, 0.3));\n",
              "      fill: #FFFFFF;\n",
              "    }\n",
              "  </style>\n",
              "\n",
              "      <script>\n",
              "        const buttonEl =\n",
              "          document.querySelector('#df-41adc7f5-851b-4a97-b048-03e6ecd763d0 button.colab-df-convert');\n",
              "        buttonEl.style.display =\n",
              "          google.colab.kernel.accessAllowed ? 'block' : 'none';\n",
              "\n",
              "        async function convertToInteractive(key) {\n",
              "          const element = document.querySelector('#df-41adc7f5-851b-4a97-b048-03e6ecd763d0');\n",
              "          const dataTable =\n",
              "            await google.colab.kernel.invokeFunction('convertToInteractive',\n",
              "                                                     [key], {});\n",
              "          if (!dataTable) return;\n",
              "\n",
              "          const docLinkHtml = 'Like what you see? Visit the ' +\n",
              "            '<a target=\"_blank\" href=https://colab.research.google.com/notebooks/data_table.ipynb>data table notebook</a>'\n",
              "            + ' to learn more about interactive tables.';\n",
              "          element.innerHTML = '';\n",
              "          dataTable['output_type'] = 'display_data';\n",
              "          await google.colab.output.renderOutput(dataTable, element);\n",
              "          const docLink = document.createElement('div');\n",
              "          docLink.innerHTML = docLinkHtml;\n",
              "          element.appendChild(docLink);\n",
              "        }\n",
              "      </script>\n",
              "    </div>\n",
              "  </div>\n",
              "  "
            ]
          },
          "metadata": {},
          "execution_count": 40
        }
      ]
    },
    {
      "cell_type": "markdown",
      "source": [
        "First, we begin by studying if there exist any pair of groups, either treatment-control pair or treatment-treatment pair, for which $\\Delta M_i$ or $\\Delta G_i$ is statistically different across these two groups in the pair. For this, we use a permutation test using F-statistic as the test statistic. \n",
        "Since we have 12 observations across four groups, computing the p-value requires computing test statistics for $12!$ permutations, which is infeasible. So, we compute our p-value using $10000$ randomly generated permutations. The figure below shows the distribution plot of the test statistic under the null hypothesis. Note that the test statistic is always positive, so our test is one-sided."
      ],
      "metadata": {
        "id": "cIs9loyfViX4"
      }
    },
    {
      "cell_type": "code",
      "source": [
        "def F_statistic(y):\n",
        "  num = 3*y.groupby(level=0).mean().var()\n",
        "  denom = y.groupby(level=0).var().sum()/4\n",
        "  return num/denom\n",
        "\n",
        "def F_test(y):\n",
        "    F = F_statistic(y)\n",
        "    #permutations = random.choices(list(itertools.permutations(y.index)), k = 1000)\n",
        "    hist = []\n",
        "    initial = y.index\n",
        "    i = 0\n",
        "    for i in range(10000):\n",
        "      y.index = np.random.permutation(initial)\n",
        "      hist.append(F_statistic(y))\n",
        "      F_temp = F_statistic(y)\n",
        "      i+=1\n",
        "    return np.mean(hist >= F), hist\n",
        "\n",
        "df_fl.index = df_fl[\"treatment\"]\n",
        "p_value, hist = F_test(df_fl[\"magnitude_diff\"])\n",
        "sns.histplot(hist)\n",
        "plt.title(\"Distribution of F-statistic for change in magnitude\")"
      ],
      "metadata": {
        "id": "h2olYWacYwDO",
        "outputId": "8633c25d-2b68-4886-f730-80b17d7d0916",
        "colab": {
          "base_uri": "https://localhost:8080/",
          "height": 299
        }
      },
      "execution_count": null,
      "outputs": [
        {
          "output_type": "execute_result",
          "data": {
            "text/plain": [
              "Text(0.5, 1.0, 'Distribution of F-statistic for change in magnitude')"
            ]
          },
          "metadata": {},
          "execution_count": 42
        },
        {
          "output_type": "display_data",
          "data": {
            "text/plain": [
              "<Figure size 432x288 with 1 Axes>"
            ],
            "image/png": "[encoded data removed]"
          },
          "metadata": {
            "needs_background": "light"
          }
        }
      ]
    },
    {
      "cell_type": "markdown",
      "source": [
        "We repeat the same F-statistic based permutation test for variable $\\Delta G$ as well."
      ],
      "metadata": {
        "id": "2wEnDRlPZXsf"
      }
    },
    {
      "cell_type": "code",
      "source": [
        "df_fl.index = df_fl[\"treatment\"]\n",
        "p_value, hist = F_test(df_fl[\"green_diff\"])\n",
        "sns.histplot(hist)\n",
        "plt.title(\"Distribution of F-statistic for change in green chanel value\")"
      ],
      "metadata": {
        "colab": {
          "base_uri": "https://localhost:8080/",
          "height": 299
        },
        "id": "3cxortaCZdUG",
        "outputId": "138fb17a-d329-4845-ab36-07085814cf9f"
      },
      "execution_count": null,
      "outputs": [
        {
          "output_type": "execute_result",
          "data": {
            "text/plain": [
              "Text(0.5, 1.0, 'Distribution of F-statistic for change in green chanel value')"
            ]
          },
          "metadata": {},
          "execution_count": 11
        },
        {
          "output_type": "display_data",
          "data": {
            "text/plain": [
              "<Figure size 432x288 with 1 Axes>"
            ],
            "image/png": "[encoded data removed]"
          },
          "metadata": {
            "needs_background": "light"
          }
        }
      ]
    },
    {
      "cell_type": "markdown",
      "source": [
        "The summary of our tests for both of these variables is presented in the following table.\n",
        "\n",
        "| Variable    | F-Statistic |p-value      |\n",
        "| ----------- | ----------- |-------------|\n",
        "| $\\Delta M$  | $5.62$      | $0.02$      |\n",
        "| $\\Delta G$  | $4.84$      | $0.04$      |\n",
        "\n",
        "Since the p-value is $<0.05$ for both variables $ \\Delta M$ and $\\Delta G$, our tests suggest that there is at least one pair of groups between which the treatment effect is significant."
      ],
      "metadata": {
        "id": "b4fyoyBuZy2w"
      }
    },
    {
      "cell_type": "markdown",
      "source": [
        "Next, we do permutation test on each pair of group separately using difference in means as our test statistic. "
      ],
      "metadata": {
        "id": "GUdIkKNnc75K"
      }
    },
    {
      "cell_type": "code",
      "source": [
        "def permutation_test(data_set, trt1, trt2,  variable):\n",
        "   data_slice = data_set.loc[data_set.treatment.isin([trt1, trt2])].copy()\n",
        "   diff_given = data_slice.loc[data_slice.treatment == trt1, variable].mean() - data_slice.loc[data_slice.treatment == trt2, variable].mean()\n",
        "  \n",
        "   differences = []\n",
        "   treatments = data_slice.loc[:, \"treatment\"].values\n",
        "   for perms in itertools.permutations(treatments):\n",
        "     data_slice.loc[:, \"treatment\"] = perms\n",
        "     differences.append(data_slice.loc[data_slice.treatment == trt1, variable].mean() - data_slice.loc[data_slice.treatment == trt2, variable].mean())\n",
        "   return differences, np.mean(differences >= diff_given)\n",
        "    \n",
        "    "
      ],
      "metadata": {
        "id": "eiokXGsr81LO"
      },
      "execution_count": null,
      "outputs": []
    },
    {
      "cell_type": "markdown",
      "source": [
        "For instance, the following plot shows the distribution of test statistics while comparing the control group to the treatment group 1 (apple) under the sharp null hypothesis. Since we obtain a p-value to be 0.7, we conclude that the treatment of apple does not have a statistically significant treatment effect."
      ],
      "metadata": {
        "id": "Qhm-UlekAJog"
      }
    },
    {
      "cell_type": "code",
      "source": [
        "differences, p_value = permutation_test(df_fl, 0, 1, \"green_diff\")\n",
        "print(\"p-value\", p_value)\n",
        "sns.histplot(differences, bins = 30, kde= True)\n",
        "plt.title(\"p-value for permutation test comparing control group against treatment group 1 (apple)\")"
      ],
      "metadata": {
        "id": "GQgZJ_Y187TA",
        "outputId": "7e862094-101f-4161-a81a-faec71ffd7a8",
        "colab": {
          "base_uri": "https://localhost:8080/",
          "height": 317
        }
      },
      "execution_count": null,
      "outputs": [
        {
          "output_type": "stream",
          "name": "stdout",
          "text": [
            "p-value 0.7\n"
          ]
        },
        {
          "output_type": "execute_result",
          "data": {
            "text/plain": [
              "Text(0.5, 1.0, 'p-value for permutation test comparing control group against treatment group 1 (apple)')"
            ]
          },
          "metadata": {},
          "execution_count": 37
        },
        {
          "output_type": "display_data",
          "data": {
            "text/plain": [
              "<Figure size 432x288 with 1 Axes>"
            ],
            "image/png": "[encoded data removed]"
          },
          "metadata": {
            "needs_background": "light"
          }
        }
      ]
    },
    {
      "cell_type": "markdown",
      "source": [
        "The p-value of all the tests, where each test compares a treatment group with either control or another treatment group,  is summarized in the following tables."
      ],
      "metadata": {
        "id": "Bx7SDrdpAIYC"
      }
    },
    {
      "cell_type": "markdown",
      "source": [
        "<table>\n",
        "<tr>\n",
        "    <th> </th>\n",
        "    <th>Control</th>\n",
        "    <th> Apple </th>\n",
        "    <th> Cucumber </th> \n",
        "    <th> Apple & Cucumber </th> \n",
        "</tr>\n",
        "\n",
        "<tr>\n",
        "    <th>Control</th> \n",
        "    <td>N/A</td> \n",
        "    <td> 0.2</td>\n",
        "    <td> 0.05 </td>\n",
        "     <td>0.1</td>\n",
        "</tr>\n",
        "\n",
        "<tr>\n",
        "    <th> Apple </th>\n",
        "    <td> 0.2</td> \n",
        "    <td>N/A</td>   \n",
        "    <td>0.05</td>\n",
        "     <td>0.4</td>\n",
        "</tr>\n",
        "\n",
        "<tr>\n",
        "    <th> Cucumber </th>\n",
        "    <td> 0.05 </td> \n",
        "    <td>0.05 </td> \n",
        "    <td>N/A</td> \n",
        "     <td>1.0</td> \n",
        "  \n",
        "</tr>\n",
        "\n",
        "<tr>\n",
        "    <th> Apple & Cucumber </th>\n",
        "    <td> 0.1</td> \n",
        "    <td>0.4</td>  \n",
        "    <td>1.0</td> \n",
        "     <td>N/A</td>\n",
        "</tr>\n",
        "\n",
        "</table>\n",
        "<p style=\"text-align: center;\">Table: p-values of permutations tests for variable $\\Delta M$</p>\n"
      ],
      "metadata": {
        "id": "iNj6cxQUPKhv"
      }
    },
    {
      "cell_type": "markdown",
      "source": [
        "<table>\n",
        "<tr>\n",
        "    <th> </th>\n",
        "    <th>Control</th>\n",
        "    <th> Apple </th>\n",
        "    <th> Cucumber </th> \n",
        "    <th> Apple & Cucumber </th> \n",
        "</tr>\n",
        "\n",
        "<tr>\n",
        "    <th>Control</th> \n",
        "    <td>N/A</td> \n",
        "    <td> 0.7</td>\n",
        "    <td> 0.05 </td>\n",
        "     <td>0.3</td>\n",
        "</tr>\n",
        "\n",
        "<tr>\n",
        "    <th> Apple </th>\n",
        "    <td> 0.7</td> \n",
        "    <td>N/A</td>   \n",
        "    <td>0.05</td>\n",
        "     <td>0.1</td>\n",
        "</tr>\n",
        "\n",
        "<tr>\n",
        "    <th> Cucumber </th>\n",
        "    <td> 0.05 </td> \n",
        "    <td>0.05 </td> \n",
        "    <td>N/A</td> \n",
        "     <td>0.9</td> \n",
        "  \n",
        "</tr>\n",
        "\n",
        "<tr>\n",
        "    <th> Apple & Cucumber </th>\n",
        "    <td> 0.3</td> \n",
        "    <td>0.1</td>  \n",
        "    <td>0.9</td> \n",
        "     <td>N/A</td>\n",
        "</tr>\n",
        "\n",
        "</table>\n",
        "<p style=\"text-align: center;\">Table: p-values of permutations tests for variable $\\Delta G$</p>"
      ],
      "metadata": {
        "id": "RnFsJXTqTY0U"
      }
    },
    {
      "cell_type": "markdown",
      "source": [
        "As we can see, the p-values of the cucumber treatment group, when compared against the control and apple group, have p-value $0.05$. However, we want to point out that our cucumber was rotten and the bananas got soaked in rotten cucumber juice. We believe that the low p-value was possible because soaked bananas looked darker compared to other bananas. Nevertheless, even with a $0.05$ p-value, after multiple testing adjustments, none of the treatments will be significant. "
      ],
      "metadata": {
        "id": "yQhIAUwLSLJO"
      }
    },
    {
      "cell_type": "markdown",
      "source": [
        "Therefore, based on our analysis above, none of our treatments is significant. That is, we did not find any statistical evidence that any of these methods quickens the ripening process."
      ],
      "metadata": {
        "id": "5caszHo6R0uX"
      }
    }
  ]
}